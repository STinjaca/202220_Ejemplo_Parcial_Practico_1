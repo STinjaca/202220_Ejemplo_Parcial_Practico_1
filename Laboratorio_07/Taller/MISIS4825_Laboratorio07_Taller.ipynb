{
  "cells": [
    {
      "cell_type": "markdown",
      "metadata": {
        "id": "FYqgItt3-qzG"
      },
      "source": [
        "[![Open In Colab](https://colab.research.google.com/assets/colab-badge.svg)](https://colab.research.google.com/github/ee-ortiz/ISIS-4825_202510_IMAGENES_Y_VISION/blob/main/Laboratorio_07/Taller/MISIS4825_Laboratorio07_Taller.ipynb)"
      ]
    },
    {
      "cell_type": "markdown",
      "metadata": {
        "id": "ygR3i7sg-qzO"
      },
      "source": [
        "![image](https://drive.google.com/u/0/uc?id=15DUc09hFGqR8qcpYiN1OajRNaASmiL6d&export=download)"
      ]
    },
    {
      "cell_type": "markdown",
      "metadata": {
        "id": "OehyEB6h-qzP"
      },
      "source": [
        "# Laboratorio 07 - Taller: Redes Neuronales Convolucionales\n",
        "\n",
        "En este taller profundizaremos en el diseño, implementación y optimización de redes neuronales convolucionales (CNNs) para tareas de clasificación de imágenes. Utilizaremos el conjunto de datos **Covid-19 Chest X-Ray Images**, el cual contiene imágenes de radiografías de tórax de personas diagnosticadas con COVID-19 y personas sin la enfermedad.\n",
        "\n",
        "El objetivo principal es construir y optimizar modelos de CNN propios que permitan distinguir entre las diferentes clases presentes en el dataset.\n",
        "\n",
        "\n",
        "## Instrucciones del Taller\n",
        "\n",
        "### 1. Diseño y Construcción de una Red Convolucional Propia\n",
        "\n",
        "- **Arquitectura de la CNN:**  \n",
        "  Diseñe una arquitectura de CNN personalizada utilizando Keras. Explique las decisiones tomadas en cada etapa, tales como:\n",
        "  - Número y tipo de capas convolucionales.\n",
        "  - Tamaño de los filtros y kernels.\n",
        "  - Elección de las capas de pooling (MaxPooling2D, AveragePooling2D, etc.).\n",
        "  - Funciones de activación utilizadas (por ejemplo, ReLU).\n",
        "  - Implementación de técnicas de regularización (por ejemplo, Dropout) para prevenir el sobreajuste.\n",
        "- **Preprocesamiento de Datos:**  \n",
        "  Realice el preprocesamiento adecuado de los datos, como reescalado (normalización) y data augmentation, y divida el conjunto de datos en entrenamiento, validación y test.\n",
        "- **Documentación:**  \n",
        "  Justifique las decisiones de diseño y preprocesamiento, explicando cómo cada elección impacta el rendimiento del modelo.\n",
        "\n",
        "### 2. Experimentación y Optimización del Modelo\n",
        "\n",
        "- **Ajuste de Arquitectura y Hiperparámetros:**  \n",
        "  Realice experimentos modificando la arquitectura base de su CNN. Algunas ideas incluyen:\n",
        "  - Variar el número de capas convolucionales y neuronas en las capas densas.\n",
        "  - Ajustar los parámetros de las capas de pooling.\n",
        "  - Modificar la tasa de Dropout, la tasa de aprendizaje, y el tamaño del batch.\n",
        "- **Evaluación de Resultados:**  \n",
        "  Documente y analice los resultados obtenidos en cada experimento. Utilice métricas como precisión, recall, F1-score y la matriz de confusión para evaluar el desempeño.\n",
        "- **Visualización:**  \n",
        "  Genere gráficos que muestren la evolución de la precisión y la pérdida durante el entrenamiento, así como las matrices de confusión para comparar las distintas configuraciones.\n",
        "\n",
        "### 3. Análisis y Discusión de Resultados\n",
        "\n",
        "- **Comparación de Experimentos:**  \n",
        "  Compare el rendimiento de su modelo base con las variantes experimentales. Analice y discuta:\n",
        "  - ¿Qué impacto tiene la profundidad de la red y el número de filtros en la capacidad de aprendizaje?\n",
        "  - ¿Cómo influyen las técnicas de regularización (por ejemplo, Dropout) en la capacidad de generalización del modelo?\n",
        "  - ¿Qué mejoras adicionales se podrían implementar para optimizar aún más el rendimiento del modelo?\n",
        "- **Reflexión:**  \n",
        "  Plantee conclusiones y proponga futuras líneas de trabajo o posibles ajustes en la arquitectura que podrían mejorar la clasificación.\n",
        "\n",
        "\n",
        "**Datos:** [Covid-19 Chest X-Ray Images](https://www.kaggle.com/datasets/sachinkumar413/cxr-2-classes)"
      ]
    },
    {
      "cell_type": "code",
      "source": [
        "import json\n",
        "import os\n",
        "import shutil"
      ],
      "metadata": {
        "id": "g8l23cjt_Pqy"
      },
      "execution_count": 2,
      "outputs": []
    },
    {
      "cell_type": "code",
      "source": [
        "# Cargar credenciales desde kaggle.json\n",
        "with open('./kaggle.json') as f:\n",
        "    kaggle_credentials = json.load(f)\n",
        "\n",
        "os.environ['KAGGLE_USERNAME'] = kaggle_credentials['username']\n",
        "os.environ['KAGGLE_KEY'] = kaggle_credentials['key']\n",
        "\n",
        "# Autenticar y descargar el dataset\n",
        "from kaggle.api.kaggle_api_extended import KaggleApi\n",
        "api = KaggleApi()\n",
        "api.authenticate()\n",
        "api.dataset_download_files('sachinkumar413/cxr-2-classes', path='data/cxr-2-classes', unzip=True)\n",
        "\n",
        "# Eliminar carpeta redundante si existe\n",
        "redundant_folder_path = 'data/cxr-2-classes/cxr-2-classes'\n",
        "if os.path.exists(redundant_folder_path):\n",
        "    shutil.rmtree(redundant_folder_path)"
      ],
      "metadata": {
        "id": "m43FJCcL-xHL",
        "outputId": "d6838246-cc3d-482a-f0c5-8f417d01426a",
        "colab": {
          "base_uri": "https://localhost:8080/"
        }
      },
      "execution_count": 12,
      "outputs": [
        {
          "output_type": "stream",
          "name": "stdout",
          "text": [
            "Dataset URL: https://www.kaggle.com/datasets/sachinkumar413/cxr-2-classes\n"
          ]
        }
      ]
    },
    {
      "cell_type": "code",
      "source": [
        "import matplotlib.pyplot as plt\n",
        "from tensorflow import keras\n",
        "import os\n",
        "\n",
        "# Directorio de datos y obtención de las categorías\n",
        "data_dir = 'data/cxr-2-classes'\n",
        "asl_categories = os.listdir(data_dir)\n",
        "\n",
        "# Visualización de una imagen de cada categoría\n",
        "plt.figure(figsize=(10, 50))\n",
        "for i, category in enumerate(asl_categories):\n",
        "    folder = os.path.join(data_dir, category)\n",
        "    image_file = os.listdir(folder)[0]\n",
        "    img_path = os.path.join(folder, image_file)\n",
        "    img = keras.preprocessing.image.load_img(img_path, target_size=(100, 100))\n",
        "    plt.subplot(int(len(asl_categories)/2) + 1, 2, i+1)\n",
        "    plt.title(category)\n",
        "    plt.imshow(img)\n",
        "    plt.axis('off')\n",
        "plt.show()\n",
        "\n",
        "# Análisis del tamaño y distribución de clases\n",
        "image_count = {}\n",
        "total_images = 0\n",
        "for category in asl_categories:\n",
        "    folder = os.path.join(data_dir, category)\n",
        "    count = len(os.listdir(folder))\n",
        "    image_count[category] = count\n",
        "    total_images += count\n",
        "\n",
        "print(f\"Total de imágenes: {total_images}\")\n",
        "print(\"Número de imágenes por categoría:\")\n",
        "for category, count in image_count.items():\n",
        "    print(f\"{category}: {count}\")"
      ],
      "metadata": {
        "id": "DlJyIbJd_esL",
        "outputId": "8cf1f696-62bb-4329-ebf8-9ee07b177986",
        "colab": {
          "base_uri": "https://localhost:8080/",
          "height": 480
        }
      },
      "execution_count": 13,
      "outputs": [
        {
          "output_type": "display_data",
          "data": {
            "text/plain": [
              "<Figure size 1000x5000 with 2 Axes>"
            ],
            "image/png": "[encoded data removed]"
          },
          "metadata": {}
        },
        {
          "output_type": "stream",
          "name": "stdout",
          "text": [
            "Total de imágenes: 1675\n",
            "Número de imágenes por categoría:\n",
            "Normal: 850\n",
            "Covid-19: 825\n"
          ]
        }
      ]
    },
    {
      "cell_type": "code",
      "source": [
        "import pandas as pd\n",
        "from sklearn.model_selection import train_test_split\n",
        "import os\n",
        "\n",
        "# Recopilación de rutas y etiquetas\n",
        "filepaths = [os.path.join(dp, f) for dp, dn, filenames in os.walk(data_dir)\n",
        "             for f in filenames if os.path.splitext(f)[1].lower() in ['.png','.jpg','.jpeg']]\n",
        "labels = [os.path.split(os.path.split(path)[0])[1] for path in filepaths]\n",
        "\n",
        "# Crear DataFrame\n",
        "data_df = pd.DataFrame({'filepath': filepaths, 'label': labels})\n",
        "\n",
        "# Dividir en entrenamiento (70%), validación (20%) y test (10%)\n",
        "train_df, test_val_df = train_test_split(data_df, test_size=0.3, random_state=13)\n",
        "test_df, val_df = train_test_split(test_val_df, test_size=2/3, random_state=13)\n",
        "\n",
        "print(\"Total de imágenes:\", len(data_df))\n",
        "print(\"Entrenamiento:\", len(train_df))\n",
        "print(\"Validación:\", len(val_df))\n",
        "print(\"Test:\", len(test_df))"
      ],
      "metadata": {
        "id": "EkHCpBjWAsAo",
        "outputId": "c65ca743-1855-4f19-b91b-688d0c7ec441",
        "colab": {
          "base_uri": "https://localhost:8080/"
        }
      },
      "execution_count": 14,
      "outputs": [
        {
          "output_type": "stream",
          "name": "stdout",
          "text": [
            "Total de imágenes: 1675\n",
            "Entrenamiento: 1172\n",
            "Validación: 336\n",
            "Test: 167\n"
          ]
        }
      ]
    },
    {
      "cell_type": "code",
      "source": [
        "from tensorflow import keras\n",
        "\n",
        "# Generador para entrenamiento con data augmentation\n",
        "train_datagen = keras.preprocessing.image.ImageDataGenerator(\n",
        "    rescale=1./255,\n",
        "    rotation_range=20,\n",
        "    horizontal_flip=True\n",
        ")\n",
        "\n",
        "# Generador para validación y test (solo reescala)\n",
        "test_val_datagen = keras.preprocessing.image.ImageDataGenerator(rescale=1./255)\n",
        "\n",
        "# Creación de generadores a partir de los DataFrames\n",
        "train_gen = train_datagen.flow_from_dataframe(\n",
        "    train_df, x_col='filepath', y_col='label',\n",
        "    target_size=(100, 100), batch_size=32\n",
        ")\n",
        "val_gen = test_val_datagen.flow_from_dataframe(\n",
        "    val_df, x_col='filepath', y_col='label',\n",
        "    target_size=(100, 100), batch_size=32, shuffle=False\n",
        ")\n",
        "test_gen = test_val_datagen.flow_from_dataframe(\n",
        "    test_df, x_col='filepath', y_col='label',\n",
        "    target_size=(100, 100), batch_size=32, shuffle=False\n",
        ")"
      ],
      "metadata": {
        "id": "kBoOKiBGAvtN",
        "outputId": "692fb9aa-a9d0-4b87-e16f-aba3ba484ec8",
        "colab": {
          "base_uri": "https://localhost:8080/"
        }
      },
      "execution_count": 15,
      "outputs": [
        {
          "output_type": "stream",
          "name": "stdout",
          "text": [
            "Found 1172 validated image filenames belonging to 2 classes.\n",
            "Found 336 validated image filenames belonging to 2 classes.\n",
            "Found 167 validated image filenames belonging to 2 classes.\n"
          ]
        }
      ]
    },
    {
      "cell_type": "code",
      "source": [
        "from tensorflow.keras.models import Sequential\n",
        "from tensorflow.keras.layers import Conv2D, MaxPooling2D, Flatten, Dense, Dropout\n",
        "\n",
        "# Construcción del modelo CNN\n",
        "model = Sequential([\n",
        "    # Primera capa convolucional: extrae características básicas\n",
        "    Conv2D(16, (3, 3), activation='relu', input_shape=(100, 100, 3)),\n",
        "    MaxPooling2D((2, 2)),\n",
        "\n",
        "    # Segunda capa convolucional: extrae características más complejas\n",
        "    Conv2D(32, (3, 3), activation='relu'),\n",
        "    MaxPooling2D((2, 2)),\n",
        "\n",
        "    # Aplanamiento para conectar con las capas densas\n",
        "    Flatten(),\n",
        "    Dense(16, activation='relu'),\n",
        "    Dropout(0.2),\n",
        "    Dense(len(asl_categories), activation='softmax')  # Capa de salida para clasificación\n",
        "])\n",
        "\n",
        "# Resumen del modelo para verificar la arquitectura\n",
        "model.summary()"
      ],
      "metadata": {
        "id": "pzwvao6TAx35",
        "outputId": "a28a6979-0527-4cf4-f103-1840fa6269c4",
        "colab": {
          "base_uri": "https://localhost:8080/",
          "height": 463
        }
      },
      "execution_count": 16,
      "outputs": [
        {
          "output_type": "stream",
          "name": "stderr",
          "text": [
            "/usr/local/lib/python3.11/dist-packages/keras/src/layers/convolutional/base_conv.py:107: UserWarning: Do not pass an `input_shape`/`input_dim` argument to a layer. When using Sequential models, prefer using an `Input(shape)` object as the first layer in the model instead.\n",
            "  super().__init__(activity_regularizer=activity_regularizer, **kwargs)\n"
          ]
        },
        {
          "output_type": "display_data",
          "data": {
            "text/plain": [
              "\u001b[1mModel: \"sequential\"\u001b[0m\n"
            ],
            "text/html": [
              "<pre style=\"white-space:pre;overflow-x:auto;line-height:normal;font-family:Menlo,'DejaVu Sans Mono',consolas,'Courier New',monospace\"><span style=\"font-weight: bold\">Model: \"sequential\"</span>\n",
              "</pre>\n"
            ]
          },
          "metadata": {}
        },
        {
          "output_type": "display_data",
          "data": {
            "text/plain": [
              "┏━━━━━━━━━━━━━━━━━━━━━━━━━━━━━━━━━┳━━━━━━━━━━━━━━━━━━━━━━━━┳━━━━━━━━━━━━━━━┓\n",
              "┃\u001b[1m \u001b[0m\u001b[1mLayer (type)                   \u001b[0m\u001b[1m \u001b[0m┃\u001b[1m \u001b[0m\u001b[1mOutput Shape          \u001b[0m\u001b[1m \u001b[0m┃\u001b[1m \u001b[0m\u001b[1m      Param #\u001b[0m\u001b[1m \u001b[0m┃\n",
              "┡━━━━━━━━━━━━━━━━━━━━━━━━━━━━━━━━━╇━━━━━━━━━━━━━━━━━━━━━━━━╇━━━━━━━━━━━━━━━┩\n",
              "│ conv2d (\u001b[38;5;33mConv2D\u001b[0m)                 │ (\u001b[38;5;45mNone\u001b[0m, \u001b[38;5;34m98\u001b[0m, \u001b[38;5;34m98\u001b[0m, \u001b[38;5;34m16\u001b[0m)     │           \u001b[38;5;34m448\u001b[0m │\n",
              "├─────────────────────────────────┼────────────────────────┼───────────────┤\n",
              "│ max_pooling2d (\u001b[38;5;33mMaxPooling2D\u001b[0m)    │ (\u001b[38;5;45mNone\u001b[0m, \u001b[38;5;34m49\u001b[0m, \u001b[38;5;34m49\u001b[0m, \u001b[38;5;34m16\u001b[0m)     │             \u001b[38;5;34m0\u001b[0m │\n",
              "├─────────────────────────────────┼────────────────────────┼───────────────┤\n",
              "│ conv2d_1 (\u001b[38;5;33mConv2D\u001b[0m)               │ (\u001b[38;5;45mNone\u001b[0m, \u001b[38;5;34m47\u001b[0m, \u001b[38;5;34m47\u001b[0m, \u001b[38;5;34m32\u001b[0m)     │         \u001b[38;5;34m4,640\u001b[0m │\n",
              "├─────────────────────────────────┼────────────────────────┼───────────────┤\n",
              "│ max_pooling2d_1 (\u001b[38;5;33mMaxPooling2D\u001b[0m)  │ (\u001b[38;5;45mNone\u001b[0m, \u001b[38;5;34m23\u001b[0m, \u001b[38;5;34m23\u001b[0m, \u001b[38;5;34m32\u001b[0m)     │             \u001b[38;5;34m0\u001b[0m │\n",
              "├─────────────────────────────────┼────────────────────────┼───────────────┤\n",
              "│ flatten (\u001b[38;5;33mFlatten\u001b[0m)               │ (\u001b[38;5;45mNone\u001b[0m, \u001b[38;5;34m16928\u001b[0m)          │             \u001b[38;5;34m0\u001b[0m │\n",
              "├─────────────────────────────────┼────────────────────────┼───────────────┤\n",
              "│ dense (\u001b[38;5;33mDense\u001b[0m)                   │ (\u001b[38;5;45mNone\u001b[0m, \u001b[38;5;34m16\u001b[0m)             │       \u001b[38;5;34m270,864\u001b[0m │\n",
              "├─────────────────────────────────┼────────────────────────┼───────────────┤\n",
              "│ dropout (\u001b[38;5;33mDropout\u001b[0m)               │ (\u001b[38;5;45mNone\u001b[0m, \u001b[38;5;34m16\u001b[0m)             │             \u001b[38;5;34m0\u001b[0m │\n",
              "├─────────────────────────────────┼────────────────────────┼───────────────┤\n",
              "│ dense_1 (\u001b[38;5;33mDense\u001b[0m)                 │ (\u001b[38;5;45mNone\u001b[0m, \u001b[38;5;34m2\u001b[0m)              │            \u001b[38;5;34m34\u001b[0m │\n",
              "└─────────────────────────────────┴────────────────────────┴───────────────┘\n"
            ],
            "text/html": [
              "<pre style=\"white-space:pre;overflow-x:auto;line-height:normal;font-family:Menlo,'DejaVu Sans Mono',consolas,'Courier New',monospace\">┏━━━━━━━━━━━━━━━━━━━━━━━━━━━━━━━━━┳━━━━━━━━━━━━━━━━━━━━━━━━┳━━━━━━━━━━━━━━━┓\n",
              "┃<span style=\"font-weight: bold\"> Layer (type)                    </span>┃<span style=\"font-weight: bold\"> Output Shape           </span>┃<span style=\"font-weight: bold\">       Param # </span>┃\n",
              "┡━━━━━━━━━━━━━━━━━━━━━━━━━━━━━━━━━╇━━━━━━━━━━━━━━━━━━━━━━━━╇━━━━━━━━━━━━━━━┩\n",
              "│ conv2d (<span style=\"color: #0087ff; text-decoration-color: #0087ff\">Conv2D</span>)                 │ (<span style=\"color: #00d7ff; text-decoration-color: #00d7ff\">None</span>, <span style=\"color: #00af00; text-decoration-color: #00af00\">98</span>, <span style=\"color: #00af00; text-decoration-color: #00af00\">98</span>, <span style=\"color: #00af00; text-decoration-color: #00af00\">16</span>)     │           <span style=\"color: #00af00; text-decoration-color: #00af00\">448</span> │\n",
              "├─────────────────────────────────┼────────────────────────┼───────────────┤\n",
              "│ max_pooling2d (<span style=\"color: #0087ff; text-decoration-color: #0087ff\">MaxPooling2D</span>)    │ (<span style=\"color: #00d7ff; text-decoration-color: #00d7ff\">None</span>, <span style=\"color: #00af00; text-decoration-color: #00af00\">49</span>, <span style=\"color: #00af00; text-decoration-color: #00af00\">49</span>, <span style=\"color: #00af00; text-decoration-color: #00af00\">16</span>)     │             <span style=\"color: #00af00; text-decoration-color: #00af00\">0</span> │\n",
              "├─────────────────────────────────┼────────────────────────┼───────────────┤\n",
              "│ conv2d_1 (<span style=\"color: #0087ff; text-decoration-color: #0087ff\">Conv2D</span>)               │ (<span style=\"color: #00d7ff; text-decoration-color: #00d7ff\">None</span>, <span style=\"color: #00af00; text-decoration-color: #00af00\">47</span>, <span style=\"color: #00af00; text-decoration-color: #00af00\">47</span>, <span style=\"color: #00af00; text-decoration-color: #00af00\">32</span>)     │         <span style=\"color: #00af00; text-decoration-color: #00af00\">4,640</span> │\n",
              "├─────────────────────────────────┼────────────────────────┼───────────────┤\n",
              "│ max_pooling2d_1 (<span style=\"color: #0087ff; text-decoration-color: #0087ff\">MaxPooling2D</span>)  │ (<span style=\"color: #00d7ff; text-decoration-color: #00d7ff\">None</span>, <span style=\"color: #00af00; text-decoration-color: #00af00\">23</span>, <span style=\"color: #00af00; text-decoration-color: #00af00\">23</span>, <span style=\"color: #00af00; text-decoration-color: #00af00\">32</span>)     │             <span style=\"color: #00af00; text-decoration-color: #00af00\">0</span> │\n",
              "├─────────────────────────────────┼────────────────────────┼───────────────┤\n",
              "│ flatten (<span style=\"color: #0087ff; text-decoration-color: #0087ff\">Flatten</span>)               │ (<span style=\"color: #00d7ff; text-decoration-color: #00d7ff\">None</span>, <span style=\"color: #00af00; text-decoration-color: #00af00\">16928</span>)          │             <span style=\"color: #00af00; text-decoration-color: #00af00\">0</span> │\n",
              "├─────────────────────────────────┼────────────────────────┼───────────────┤\n",
              "│ dense (<span style=\"color: #0087ff; text-decoration-color: #0087ff\">Dense</span>)                   │ (<span style=\"color: #00d7ff; text-decoration-color: #00d7ff\">None</span>, <span style=\"color: #00af00; text-decoration-color: #00af00\">16</span>)             │       <span style=\"color: #00af00; text-decoration-color: #00af00\">270,864</span> │\n",
              "├─────────────────────────────────┼────────────────────────┼───────────────┤\n",
              "│ dropout (<span style=\"color: #0087ff; text-decoration-color: #0087ff\">Dropout</span>)               │ (<span style=\"color: #00d7ff; text-decoration-color: #00d7ff\">None</span>, <span style=\"color: #00af00; text-decoration-color: #00af00\">16</span>)             │             <span style=\"color: #00af00; text-decoration-color: #00af00\">0</span> │\n",
              "├─────────────────────────────────┼────────────────────────┼───────────────┤\n",
              "│ dense_1 (<span style=\"color: #0087ff; text-decoration-color: #0087ff\">Dense</span>)                 │ (<span style=\"color: #00d7ff; text-decoration-color: #00d7ff\">None</span>, <span style=\"color: #00af00; text-decoration-color: #00af00\">2</span>)              │            <span style=\"color: #00af00; text-decoration-color: #00af00\">34</span> │\n",
              "└─────────────────────────────────┴────────────────────────┴───────────────┘\n",
              "</pre>\n"
            ]
          },
          "metadata": {}
        },
        {
          "output_type": "display_data",
          "data": {
            "text/plain": [
              "\u001b[1m Total params: \u001b[0m\u001b[38;5;34m275,986\u001b[0m (1.05 MB)\n"
            ],
            "text/html": [
              "<pre style=\"white-space:pre;overflow-x:auto;line-height:normal;font-family:Menlo,'DejaVu Sans Mono',consolas,'Courier New',monospace\"><span style=\"font-weight: bold\"> Total params: </span><span style=\"color: #00af00; text-decoration-color: #00af00\">275,986</span> (1.05 MB)\n",
              "</pre>\n"
            ]
          },
          "metadata": {}
        },
        {
          "output_type": "display_data",
          "data": {
            "text/plain": [
              "\u001b[1m Trainable params: \u001b[0m\u001b[38;5;34m275,986\u001b[0m (1.05 MB)\n"
            ],
            "text/html": [
              "<pre style=\"white-space:pre;overflow-x:auto;line-height:normal;font-family:Menlo,'DejaVu Sans Mono',consolas,'Courier New',monospace\"><span style=\"font-weight: bold\"> Trainable params: </span><span style=\"color: #00af00; text-decoration-color: #00af00\">275,986</span> (1.05 MB)\n",
              "</pre>\n"
            ]
          },
          "metadata": {}
        },
        {
          "output_type": "display_data",
          "data": {
            "text/plain": [
              "\u001b[1m Non-trainable params: \u001b[0m\u001b[38;5;34m0\u001b[0m (0.00 B)\n"
            ],
            "text/html": [
              "<pre style=\"white-space:pre;overflow-x:auto;line-height:normal;font-family:Menlo,'DejaVu Sans Mono',consolas,'Courier New',monospace\"><span style=\"font-weight: bold\"> Non-trainable params: </span><span style=\"color: #00af00; text-decoration-color: #00af00\">0</span> (0.00 B)\n",
              "</pre>\n"
            ]
          },
          "metadata": {}
        }
      ]
    },
    {
      "cell_type": "code",
      "source": [
        "model.compile(optimizer='adam',\n",
        "              loss='categorical_crossentropy',\n",
        "              metrics=['accuracy'])"
      ],
      "metadata": {
        "id": "n-F9jQ_FA96i"
      },
      "execution_count": 17,
      "outputs": []
    },
    {
      "cell_type": "code",
      "source": [
        "from tensorflow.keras.callbacks import EarlyStopping, ReduceLROnPlateau, ModelCheckpoint\n",
        "\n",
        "model_checkpoint = ModelCheckpoint('best_model.keras', save_best_only=True,\n",
        "                                   monitor='val_loss', mode='min')\n",
        "early_stopping = EarlyStopping(monitor='val_loss', patience=10, verbose=1, mode='min')\n",
        "reduce_lr = ReduceLROnPlateau(monitor='val_loss', factor=0.1, patience=5, verbose=1, mode='min')\n",
        "\n",
        "callbacks = [model_checkpoint, early_stopping, reduce_lr]"
      ],
      "metadata": {
        "id": "cdSvJ5tuA_i5"
      },
      "execution_count": 18,
      "outputs": []
    },
    {
      "cell_type": "code",
      "source": [
        "import tensorflow as tf\n",
        "\n",
        "with tf.device('/device:GPU:0'):\n",
        "    history = model.fit(\n",
        "        train_gen,\n",
        "        validation_data=val_gen,\n",
        "        epochs=50,\n",
        "        callbacks=callbacks\n",
        "    )"
      ],
      "metadata": {
        "id": "g9Ov1uOkBD7n",
        "outputId": "4579c78a-083c-4747-9e7f-ac48117d17af",
        "colab": {
          "base_uri": "https://localhost:8080/"
        }
      },
      "execution_count": null,
      "outputs": [
        {
          "output_type": "stream",
          "name": "stderr",
          "text": [
            "/usr/local/lib/python3.11/dist-packages/keras/src/trainers/data_adapters/py_dataset_adapter.py:121: UserWarning: Your `PyDataset` class should call `super().__init__(**kwargs)` in its constructor. `**kwargs` can include `workers`, `use_multiprocessing`, `max_queue_size`. Do not pass these arguments to `fit()`, as they will be ignored.\n",
            "  self._warn_if_super_not_called()\n"
          ]
        },
        {
          "output_type": "stream",
          "name": "stdout",
          "text": [
            "Epoch 1/50\n",
            "\u001b[1m37/37\u001b[0m \u001b[32m━━━━━━━━━━━━━━━━━━━━\u001b[0m\u001b[37m\u001b[0m \u001b[1m14s\u001b[0m 343ms/step - accuracy: 0.5493 - loss: 0.7022 - val_accuracy: 0.7351 - val_loss: 0.4832 - learning_rate: 0.0010\n",
            "Epoch 2/50\n",
            "\u001b[1m37/37\u001b[0m \u001b[32m━━━━━━━━━━━━━━━━━━━━\u001b[0m\u001b[37m\u001b[0m \u001b[1m12s\u001b[0m 322ms/step - accuracy: 0.8034 - loss: 0.5031 - val_accuracy: 0.9762 - val_loss: 0.3406 - learning_rate: 0.0010\n",
            "Epoch 3/50\n",
            "\u001b[1m37/37\u001b[0m \u001b[32m━━━━━━━━━━━━━━━━━━━━\u001b[0m\u001b[37m\u001b[0m \u001b[1m12s\u001b[0m 322ms/step - accuracy: 0.8657 - loss: 0.4433 - val_accuracy: 0.9792 - val_loss: 0.3174 - learning_rate: 0.0010\n",
            "Epoch 4/50\n",
            "\u001b[1m37/37\u001b[0m \u001b[32m━━━━━━━━━━━━━━━━━━━━\u001b[0m\u001b[37m\u001b[0m \u001b[1m13s\u001b[0m 352ms/step - accuracy: 0.8801 - loss: 0.4059 - val_accuracy: 0.9792 - val_loss: 0.2973 - learning_rate: 0.0010\n",
            "Epoch 5/50\n",
            "\u001b[1m37/37\u001b[0m \u001b[32m━━━━━━━━━━━━━━━━━━━━\u001b[0m\u001b[37m\u001b[0m \u001b[1m21s\u001b[0m 361ms/step - accuracy: 0.8821 - loss: 0.4003 - val_accuracy: 0.9792 - val_loss: 0.2777 - learning_rate: 0.0010\n",
            "Epoch 6/50\n",
            "\u001b[1m37/37\u001b[0m \u001b[32m━━━━━━━━━━━━━━━━━━━━\u001b[0m\u001b[37m\u001b[0m \u001b[1m19s\u001b[0m 330ms/step - accuracy: 0.8847 - loss: 0.3757 - val_accuracy: 0.9851 - val_loss: 0.2629 - learning_rate: 0.0010\n",
            "Epoch 7/50\n",
            "\u001b[1m37/37\u001b[0m \u001b[32m━━━━━━━━━━━━━━━━━━━━\u001b[0m\u001b[37m\u001b[0m \u001b[1m12s\u001b[0m 327ms/step - accuracy: 0.8644 - loss: 0.3872 - val_accuracy: 0.9792 - val_loss: 0.2633 - learning_rate: 0.0010\n",
            "Epoch 8/50\n",
            "\u001b[1m37/37\u001b[0m \u001b[32m━━━━━━━━━━━━━━━━━━━━\u001b[0m\u001b[37m\u001b[0m \u001b[1m12s\u001b[0m 326ms/step - accuracy: 0.8523 - loss: 0.3924 - val_accuracy: 0.9881 - val_loss: 0.2441 - learning_rate: 0.0010\n",
            "Epoch 9/50\n",
            "\u001b[1m37/37\u001b[0m \u001b[32m━━━━━━━━━━━━━━━━━━━━\u001b[0m\u001b[37m\u001b[0m \u001b[1m12s\u001b[0m 326ms/step - accuracy: 0.9000 - loss: 0.2594 - val_accuracy: 0.9851 - val_loss: 0.0716 - learning_rate: 0.0010\n",
            "Epoch 10/50\n",
            "\u001b[1m37/37\u001b[0m \u001b[32m━━━━━━━━━━━━━━━━━━━━\u001b[0m\u001b[37m\u001b[0m \u001b[1m12s\u001b[0m 323ms/step - accuracy: 0.8984 - loss: 0.1985 - val_accuracy: 0.9911 - val_loss: 0.0577 - learning_rate: 0.0010\n",
            "Epoch 11/50\n",
            "\u001b[1m26/37\u001b[0m \u001b[32m━━━━━━━━━━━━━━\u001b[0m\u001b[37m━━━━━━\u001b[0m \u001b[1m3s\u001b[0m 326ms/step - accuracy: 0.8806 - loss: 0.2195"
          ]
        }
      ]
    }
  ],
  "metadata": {
    "language_info": {
      "name": "python"
    },
    "colab": {
      "provenance": []
    },
    "kernelspec": {
      "name": "python3",
      "display_name": "Python 3"
    }
  },
  "nbformat": 4,
  "nbformat_minor": 0
}